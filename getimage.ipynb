{
 "cells": [
  {
   "cell_type": "code",
   "execution_count": null,
   "metadata": {},
   "outputs": [],
   "source": [
    "# https://www.shutterstock.com/zh-Hant/search/woman?pl=PPC_GOO_TW_IG-346368958539&cr=bc&kw=%2B%E5%A5%B3%E7%94%9F+%2B%E7%B4%A0%E6%9D%90&gclid=Cj0KCQjw3Nv3BRC8ARIsAPh8hgIN0KN0j1woIrQtZb1ULfTSkzQAnyHGDnNj6eXi7D2WcG8vykOak0YaAnoqEALw_wcB&gclsrc=aw.ds&image_type=photo&mreleased=true&ethnicity=chinese&age=20s&gender=female&number_of_people=1&category=People"
   ]
  },
  {
   "cell_type": "code",
   "execution_count": 1,
   "metadata": {},
   "outputs": [],
   "source": [
    "import requests\n",
    "import os\n",
    "from bs4 import BeautifulSoup\n",
    "from PIL import Image\n",
    "import urllib"
   ]
  },
  {
   "cell_type": "code",
   "execution_count": 63,
   "metadata": {},
   "outputs": [],
   "source": [
    "url = 'https://www.shutterstock.com/zh-Hant/search/Face?pl=PPC_GOO_TW_IG-346368958539&cr=bc&kw=%2B%E5%A5%B3%E7%94%9F+%2B%E7%B4%A0%E6%9D%90&gclid=Cj0KCQjw3Nv3BRC8ARIsAPh8hgIN0KN0j1woIrQtZb1ULfTSkzQAnyHGDnNj6eXi7D2WcG8vykOak0YaAnoqEALw_wcB&gclsrc=aw.ds&image_type=photo&mreleased=true&ethnicity=japanese&ethnicity=chinese&ethnicity=east_asian&age=20s&gender=female&category=People&number_of_people=1&editorial=0&'\n",
    "header= {\n",
    "\"accept\": \"text/html,application/xhtml+xml,application/xml;q=0.9,image/webp,image/apng,*/*;q=0.8,application/signed-exchange;v=b3;q=0.9\",\n",
    "\"accept-encoding\": \"gzip, deflate, br\",\n",
    "\"accept-language\": \"zh-TW,zh;q=0.9,en-US;q=0.8,en;q=0.7\",\n",
    "\"cache-control\": \"max-age=0\",\n",
    "\"cookie\": \"did=zBOb8eYn9Tlem0/2yIXgJF0EUxfjMVFyPZeOg4s8GJw=; sstk.sid=s%3Ai6Yx5QK9IGQiuLkS3DH1A37bzp-rBMrs.xDwrptlsQvFlrdGrskyliw%2FPPzZCsycTxTfrIj0PLvY; visit_id=67077871683; visitor_id=61823879728; ajs_anonymous_id=%228edb3130-a273-48a8-9d7d-7e0566121c33%22; _ga=GA1.2.341957607.1593255045; _gid=GA1.2.1453567388.1593255045; _gcl_au=1.1.1319635990.1593255046; _CEFT=Q%3D%3D%3D; AMP_TOKEN=%24NOT_FOUND; IR_gbd=shutterstock.com; __ssid=dcd8f81b594ca3931801cf8a2b5f3c1; _actts=1593255048.1593255048.1593255048; _ym_uid=1593255048516771373; _ym_d=1593255048; _ym_isad=2; _actvc=1; locale=zh-Hant; IR_PI=0f37b1b7-b864-11ea-b127-42010a246104%7C1593343048255; _gcl_aw=GCL.1593256761.Cj0KCQjw3Nv3BRC8ARIsAPh8hgIN0KN0j1woIrQtZb1ULfTSkzQAnyHGDnNj6eXi7D2WcG8vykOak0YaAnoqEALw_wcB; _gcl_dc=GCL.1593256761.Cj0KCQjw3Nv3BRC8ARIsAPh8hgIN0KN0j1woIrQtZb1ULfTSkzQAnyHGDnNj6eXi7D2WcG8vykOak0YaAnoqEALw_wcB; IR_1305=1593256761340%7C76199%7C1593255047108%7C%7C; _actcc=28.18.28.18; footage_search_tracking_id=97c18393-dcea-4a81-932f-432eb88373b1; search=/search/woman?pl=PPC_GOO_TW_IG-346368958539&cr=bc&kw=%252B%25E5%25A5%25B3%25E7%2594%259F+%252B%25E7%25B4%25A0%25E6%259D%2590&gclid=Cj0KCQjw3Nv3BRC8ARIsAPh8hgIN0KN0j1woIrQtZb1ULfTSkzQAnyHGDnNj6eXi7D2WcG8vykOak0YaAnoqEALw_wcB&gclsrc=aw.ds&image_type=photo&mreleased=true&ethnicity=chinese&age=20s&gender=female&number_of_people=1&category=People; _gac_UA-32034-1=1.1593256798.Cj0KCQjw3Nv3BRC8ARIsAPh8hgIN0KN0j1woIrQtZb1ULfTSkzQAnyHGDnNj6eXi7D2WcG8vykOak0YaAnoqEALw_wcB; _actmu=79d596c1-0e98-4dfc-94cf-b12a77dbd55c; _actms=0b1fbb74-d11d-4be1-a438-068d8fafb120;_4c_=lVNbb9s2FP4rhQDlZZFNijcxgDHYTuYaLXJpU2TbiyGTtKXYFjWKsuoU%2Be87lO2syFOnB4Hn4%2FcdnuuPqCtMFV1hJknKuKSIM3YZbcyhia5%2BRKoO%2F334tW4bXUWF93VzNRx2XTdoitZ74xpv1Wag7G74UiQf88oPG5M7VQw7u8ur3%2Bvt6P5%2Bupjd3S0enxbzWUIoJzyTLGNEXig3WqqLTTeK00l8w%2BIxiyckvhGxpLH847ceFfGExmMU3%2FBYXscSXazVttSj6TP6NH147sjtnky%2BTLPxl3kzvi%2ByYj2%2FRZ9u0TPu7Nw9%2BL%2BX%2BNvn1ePXzcvDuDp8nF1Xt8%2Fc%2FFmK6%2FRJzbL9YXOXb9Bf%2Bbiy%2F9yMP3eLTk3CE41To7wb6Oai3OVrs%2FCH2ozqwnobXUamgqJEtdNwbhq%2FaUpvAOiZAWqXjXJl7UtbPYIOrtpKm1VZmaBoG%2BO%2B%2Bty3UORo3ZrGA6hsW3l3AMR3YOaVrQ472zZzDVBm9JJggpI8FSShWZ4lUgudCIMY5zjFipDehw5vYTnAeJAC4F%2FApBmCY%2B2sbpXv8wCwM8sPjd7AhTb7UplFV2pfBHHa009oYcp14QEWaY%2FWLlAGDM5dWWnbvded0Dcd4wLQpbMdJA32tHB2Zz5kIVwb8n%2FqBQ2YzqyMcz3r5zlbW7vemn7CQmmPlX4%2FfKcbGNx3lyHz0CscQt5alW%2BDHGYeBEaFBoE5Sadgz8aLb%2FNrMAnFkgmOxOC4FwxRFr1eRt%2BPi0IowTxFXEB9PWxFxikKHzBcqU8bEwmtMcZGJWqVy4RKBS1T0iSCoJzmVGQqXUZHnxxhRDCiglMGTvbl2Ych6cqklCQ4ZzqhOrRdCpRIkesVQ0u2UjJ6iyuFneJYZOe4cHYOq96ePOL%2FyLDs8CAnZzJ9S6Len9nsV3I%2B9jaBGiam%2Bl%2Fa19d%2FAQ%3D%3D\",\n",
    "\"referer\": \"https://www.google.com/\",\n",
    "\"sec-fetch-dest\": \"document\",\n",
    "\"sec-fetch-mode\": \"navigate\",\n",
    "\"sec-fetch-site\": \"same-origin\",\n",
    "\"sec-fetch-user\": \"?1\",\n",
    "\"upgrade-insecure-requests\": \"1\",\n",
    "\"user-agent\": \"Mozilla/5.0 (Windows NT 10.0; Win64; x64) AppleWebKit/537.36 (KHTML, like Gecko) Chrome/83.0.4103.116 Safari/537.36\"}\n"
   ]
  },
  {
   "cell_type": "code",
   "execution_count": 57,
   "metadata": {
    "tags": []
   },
   "outputs": [
    {
     "output_type": "stream",
     "name": "stdout",
     "text": "200\n100\n20\nhttps://image.shutterstock.com/image-photo/beautiful-asian-woman-working-using-260nw-1495927532.jpg\nhttps://image.shutterstock.com/image-photo/beautiful-young-asian-woman-clean-260nw-1332612137.jpg\nhttps://image.shutterstock.com/image-photo/beauty-asian-girl-clean-her-260nw-1450912376.jpg\nhttps://image.shutterstock.com/image-photo/beautiful-skin-care-woman-face-260nw-350889089.jpg\nhttps://image.shutterstock.com/image-photo/beautiful-female-halflength-portrait-isolated-260nw-1464747980.jpg\nhttps://image.shutterstock.com/image-photo/beautiful-skin-care-woman-enjoy-260nw-370332935.jpg\nhttps://image.shutterstock.com/image-photo/woman-beauty-face-green-leaves-260nw-80288551.jpg\nhttps://image.shutterstock.com/image-photo/women-face-skin-care-portrait-260nw-1590839350.jpg\nhttps://image.shutterstock.com/image-photo/women-face-skin-care-portrait-260nw-1590829726.jpg\nhttps://image.shutterstock.com/image-photo/keto-paleo-diet-scared-asian-260nw-1384486238.jpg\nhttps://image.shutterstock.com/image-photo/beauty-asian-woman-has-health-260nw-1538143868.jpg\nhttps://image.shutterstock.com/image-photo/beautiful-young-asian-woman-clean-260nw-1337641784.jpg\nhttps://image.shutterstock.com/image-photo/beautiful-asian-woman-wearing-casual-260nw-1507667600.jpg\nhttps://image.shutterstock.com/image-photo/beautiful-young-woman-clean-fresh-260nw-1327071746.jpg\nhttps://image.shutterstock.com/image-photo/young-beautiful-asian-woman-wearing-260nw-1703833585.jpg\nhttps://image.shutterstock.com/image-photo/young-asian-woman-holding-wicker-260nw-1703831122.jpg\nhttps://image.shutterstock.com/image-photo/young-beautiful-asian-woman-wearing-260nw-1703831125.jpg\nhttps://image.shutterstock.com/image-photo/young-beautiful-asian-woman-wearing-260nw-1703831131.jpg\nhttps://image.shutterstock.com/image-photo/young-asian-student-woman-holding-260nw-1703831188.jpg\nhttps://image.shutterstock.com/image-photo/young-asian-woman-drinking-cup-260nw-1703830876.jpg\nNone\nNone\nNone\nNone\nNone\nNone\nNone\nNone\nNone\nNone\nNone\nNone\nNone\nNone\nNone\nNone\nNone\nNone\nNone\nNone\nNone\nNone\nNone\nNone\nNone\nNone\nNone\nNone\nNone\nNone\nNone\nNone\nNone\nNone\nNone\nNone\nNone\nNone\nNone\nNone\nNone\nNone\nNone\nNone\nNone\nNone\nNone\nNone\nNone\nNone\nNone\nNone\nNone\nNone\nNone\nNone\nNone\nNone\nNone\nNone\nNone\nNone\nNone\nNone\nNone\nNone\nNone\nNone\nNone\nNone\nNone\nNone\nNone\nNone\nNone\nNone\nNone\nNone\nNone\nNone\n"
    }
   ],
   "source": [
    "resp = requests.get(url+f\"page={i}\",headers=header)\n",
    "soup = BeautifulSoup(resp.text)\n",
    "print(resp.status_code)\n",
    "print(len(soup.find_all(\"div\",{'class':\"z_g_c\"})))\n",
    "print(len(soup.find_all(\"img\",{'class':\"z_h_c z_h_e\"})))\n",
    "for p in soup.find_all(\"img\"):\n",
    "    print(p.get(\"src\"))"
   ]
  },
  {
   "cell_type": "code",
   "execution_count": 40,
   "metadata": {
    "tags": [
     "outputPrepend"
    ]
   },
   "outputs": [
    {
     "output_type": "stream",
     "name": "stdout",
     "text": "l\":\"/sstk-assets/314-feature-MusicLicenseBlockDownloadModal-1278ae6506b6a1877b4e.css\",\"feature-MusicLicenseRedownloadModal\":\"/sstk-assets/315-feature-MusicLicenseRedownloadModal-cbb8b938b6c3adf22eff.css\",\"feature-account-BillingPage\":\"/sstk-assets/316-feature-account-BillingPage-a183e1355f42ad17314e.css\",\"feature-account-InvoicePage\":\"/sstk-assets/338-feature-account-InvoicePage-53c901292bb2f403433e.css\",\"feature-account-PlansPage\":\"/sstk-assets/360-feature-account-PlansPage-4f2b9b82bd0c2f523339.css\",\"feature-account-ProfilePage\":\"/sstk-assets/382-feature-account-ProfilePage-aa76252b8380bc807571.css\",\"feature-account-PurchaseHistoryPage\":\"/sstk-assets/404-feature-account-PurchaseHistoryPage-0cec6a87a2873648df9f.css\",\"feature-cart-checkout-Checkout\":\"/sstk-assets/447-feature-cart-checkout-Checkout-07fa482bcb1e9b3db754.css\",\"feature-cms-AppStoreBadge\":\"/sstk-assets/490-feature-cms-AppStoreBadge-edd40ad32ca4dbd50910.css\",\"feature-cms-AppStoreBadgeItem\":\"/sstk-assets/491-feature-cms-AppStoreBadgeItem-76bee3f2b076a76a27a6.css\",\"feature-cms-AudioTrackList\":\"/sstk-assets/493-feature-cms-AudioTrackList-d7c35cd64a5093cac301.css\",\"feature-cms-BulletedText\":\"/sstk-assets/495-feature-cms-BulletedText-802a456b786c04ee81b8.css\",\"feature-cms-Carousel\":\"/sstk-assets/497-feature-cms-Carousel-d07ca9ceb696a1bcbc9d.css\",\"feature-cms-CarouselHero\":\"/sstk-assets/498-feature-cms-CarouselHero-bbc12ea44d969f5164bf.css\",\"feature-cms-CmsBanner\":\"/sstk-assets/499-feature-cms-CmsBanner-2782d05a28862441d03c.css\",\"feature-cms-CmsFaq\":\"/sstk-assets/501-feature-cms-CmsFaq-c448a64d5d516bdcf292.css\",\"feature-cms-CmsFaqItem\":\"/sstk-assets/502-feature-cms-CmsFaqItem-fef11933f75612f4b421.css\",\"feature-cms-ContentCardGrid\":\"/sstk-assets/504-feature-cms-ContentCardGrid-0552690624fee8e0660e.css\",\"feature-cms-CopyText\":\"/sstk-assets/505-feature-cms-CopyText-ad4602650489f6f84976.css\",\"feature-cms-CtaButton\":\"/sstk-assets/506-feature-cms-CtaButton-3994f7b77493cb41f94a.css\",\"feature-cms-EmbeddedMedia\":\"/sstk-assets/508-feature-cms-EmbeddedMedia-2a6f16c773270e4a0cb4.css\",\"feature-cms-FootageHeroMedia\":\"/sstk-assets/511-feature-cms-FootageHeroMedia-2015ea08d289428404e7.css\",\"feature-cms-Form\":\"/sstk-assets/512-feature-cms-Form-cfa2f15da3e80335ad51.css\",\"feature-cms-FormField\":\"/sstk-assets/513-feature-cms-FormField-344f366d6535f5776e76.css\",\"feature-cms-GatedDownload\":\"/sstk-assets/514-feature-cms-GatedDownload-33b963539b638b73b9ef.css\",\"feature-cms-GatedDownloadAsset\":\"/sstk-assets/515-feature-cms-GatedDownloadAsset-2b7499c65bc6af5719df.css\",\"feature-cms-GridCard\":\"/sstk-assets/517-feature-cms-GridCard-26eb0f94d342fb9ce182.css\",\"feature-cms-GridCard1500Preview\":\"/sstk-assets/518-feature-cms-GridCard1500Preview-07da8fa93b0e9cb6df68.css\",\"feature-cms-GridCard260Thumb\":\"/sstk-assets/519-feature-cms-GridCard260Thumb-8ba6f583f82fb557fc55.css\",\"feature-cms-Hero\":\"/sstk-assets/520-feature-cms-Hero-b4060673b19eea3cf8de.css\",\"feature-cms-HeroSecondaryBanner\":\"/sstk-assets/521-feature-cms-HeroSecondaryBanner-c4fa46c608b5a02a361c.css\",\"feature-cms-IconValueProp\":\"/sstk-assets/522-feature-cms-IconValueProp-da0f685f00ce4878be82.css\",\"feature-cms-IconValuePropItem\":\"/sstk-assets/523-feature-cms-IconValuePropItem-cf31dde185bdaf87cf35.css\",\"feature-cms-ImageBulletedList\":\"/sstk-assets/524-feature-cms-ImageBulletedList-3b7c59a83ac80fc4b5e4.css\",\"feature-cms-ImageGrid\":\"/sstk-assets/525-feature-cms-ImageGrid-e0250d0ef8080094b7b8.css\",\"feature-cms-ImageHeroMedia\":\"/sstk-assets/526-feature-cms-ImageHeroMedia-890e5de7c2770d340f33.css\",\"feature-cms-ImageLinks\":\"/sstk-assets/527-feature-cms-ImageLinks-c87e7f76ff993c34f6ec.css\",\"feature-cms-ImageLinksItem\":\"/sstk-assets/528-feature-cms-ImageLinksItem-ce8b01ac13a48df4793e.css\",\"feature-cms-ImageParagraphItem\":\"/sstk-assets/529-feature-cms-ImageParagraphItem-0b396dc0c822d0aa3b82.css\",\"feature-cms-LegalText\":\"/sstk-assets/531-feature-cms-LegalText-3f56a3f635dbb69976ab.css\",\"feature-cms-LinksList\":\"/sstk-assets/532-feature-cms-LinksList-53545047832e0972de2e.css\",\"feature-cms-MultiPricingCard\":\"/sstk-assets/533-feature-cms-MultiPricingCard-6dfb75807f9edd740df1.css\",\"feature-cms-PricingCard\":\"/sstk-assets/534-feature-cms-PricingCard-5bb8430631718ebb9419.css\",\"feature-cms-RegistrationloginForm\":\"/sstk-assets/535-feature-cms-RegistrationloginForm-b8b38227ad36ab68c114.css\",\"feature-cms-SelectorForm\":\"/sstk-assets/537-feature-cms-SelectorForm-866b6ef2b89d24000e2e.css\",\"feature-cms-SocialShare\":\"/sstk-assets/538-feature-cms-SocialShare-513dd5d5df1b692d4b7d.css\",\"feature-cms-SpacingModule\":\"/sstk-assets/539-feature-cms-SpacingModule-2cd298ade2ba2b22f59f.css\",\"feature-cms-SplitHero\":\"/sstk-assets/540-feature-cms-SplitHero-e8f12c6028b924106a5d.css\",\"feature-cms-TabTable\":\"/sstk-assets/541-feature-cms-TabTable-d751b463722a2704abf2.css\",\"feature-cms-TrustMarks\":\"/sstk-assets/543-feature-cms-TrustMarks-7ae19a1e4aac866b2c4e.css\",\"feature-cms-VideoGrid\":\"/sstk-assets/544-feature-cms-VideoGrid-4e319bb5988ee98bb0c2.css\",\"feature-cms-VideoShowcase\":\"/sstk-assets/545-feature-cms-VideoShowcase-8c0700afeee110b78bfd.css\",\"feature-collections-PageCollectionDetailFootage\":\"/sstk-assets/546-feature-collections-PageCollectionDetailFootage-8986ac7e58a64c5440b2.css\",\"feature-collections-PageCollectionDetailImage\":\"/sstk-assets/568-feature-collections-PageCollectionDetailImage-eadc73403e6d6999e433.css\",\"feature-collections-PageCollectionDetailMusic\":\"/sstk-assets/590-feature-collections-PageCollectionDetailMusic-569994ccfc4ea81ee6ff.css\",\"feature-collections-PageCollectionManagementFootage\":\"/sstk-assets/612-feature-collections-PageCollectionManagementFootage-971e6e509e8b965d1b94.css\",\"feature-collections-PageCollectionManagementImage\":\"/sstk-assets/634-feature-collections-PageCollectionManagementImage-9ce008cd5a1b24652773.css\",\"feature-collections-PageCollectionManagementMusic\":\"/sstk-assets/656-feature-collections-PageCollectionManagementMusic-1e7caf547bb56b763f28.css\",\"feature-color-landing-ColorIndex\":\"/sstk-assets/678-feature-color-landing-ColorIndex-f51ef2f3cefd3a0e0dc6.css\",\"feature-color-landing-ColorLanding\":\"/sstk-assets/679-feature-color-landing-ColorLanding-5e7f5fd8c2cf61f29881.css\",\"feature-contributor-ContributorPortfolio\":\"/sstk-assets/680-feature-contributor-ContributorPortfolio-9b9e8d09bdd35daa3c8e.css\",\"feature-editor-Designs\":\"/sstk-assets/702-feature-editor-Designs-13800f5f451dd71ad034.css\",\"feature-editor-Templates\":\"/sstk-assets/703-feature-editor-Templates-51458139caf782c2c7b2.css\",\"feature-editorial-Homepage\":\"/sstk-assets/704-feature-editorial-Homepage-1f44e609c54cc22ee206.css\",\"feature-errors-PageNotFound\":\"/sstk-assets/705-feature-errors-PageNotFound-ff81894a3dd8d37bdd3e.css\",\"feature-file-converter\":\"/sstk-assets/706-feature-file-converter-fb1fd3bc252ab6cb4722.css\",\"feature-image-SearchResultsGridPreview\":\"/sstk-assets/707-feature-image-SearchResultsGridPreview-8418a0dda8a767b77e84.css\",\"feature-image-resizer\":\"/sstk-assets/708-feature-image-resizer-8598a658df1c6aff629d.css\",\"feature-license-history-LicenseHistoryPage\":\"/sstk-assets/709-feature-license-history-LicenseHistoryPage-5fb5aa6d7a68e36bd707.css\",\"feature-platform-workbench-Experiments\":\"/sstk-assets/731-feature-platform-workbench-Experiments-780ed51fc3c9dad39ac3.css\",\"feature-platform-workbench-Flags\":\"/sstk-assets/732-feature-platform-workbench-Flags-9fce359fba3655c5a21d.css\",\"feature-platform-workbench-PublicStudioAPI\":\"/sstk-assets/733-feature-platform-workbench-PublicStudioAPI-9ee85c45c2ab8bfd15cc.css\",\"feature-platform-workbench-XssTranslations\":\"/sstk-assets/734-feature-platform-workbench-XssTranslations-1a1bfa5fb231d3691b8a.css\",\"feature-pricing-DeveloperAPIPricing\":\"/sstk-assets/735-feature-pricing-DeveloperAPIPricing-c503c0180344305c7eda.css\",\"feature-pricing-FootagePricing\":\"/sstk-assets/757-feature-pricing-FootagePricing-c53b802c5d9dc66ec0cf.css\",\"feature-pricing-ImagePricing\":\"/sstk-assets/779-feature-pricing-ImagePricing-a74c6a5106f3f03bee19.css\",\"feature-pricing-MusicPricing\":\"/sstk-assets/801-feature-pricing-MusicPricing-27eac370c78182bc63a3.css\",\"feature-site-banner-BannerSwitcherContainer\":\"/sstk-assets/823-feature-site-banner-BannerSwitcherContainer-cd40c62ce67f7ee9c30a.css\",\"feature-site-banner-DismissibleBanner\":\"/sstk-assets/824-feature-site-banner-DismissibleBanner-d409cd9f424d46f9d7fb.css\",\"feature-site-banner-Leaderboard\":\"/sstk-assets/825-feature-site-banner-Leaderboard-cfc2c0b13848815434cf.css\",\"feature-site-banner-Unsupported\":\"/sstk-assets/826-feature-site-banner-Unsupported-60360e54223789cc9ac7.css\",\"feature-team-experience-PageAcceptInvite\":\"/sstk-assets/827-feature-team-experience-PageAcceptInvite-d984aa49a1a90a2e4282.css\",\"feature-team-experience-PageTeamManagement\":\"/sstk-assets/828-feature-team-experience-PageTeamManagement-ec8f907d7b3be9bd9954.css\",\"feature-team-onboarding-PageTeamOnboarding\":\"/sstk-assets/829-feature-team-onboarding-PageTeamOnboarding-a7b3717cb7c152af0df6.css\",\"routes-acquisition-About\":\"/sstk-assets/851-routes-acquisition-About-128e5d3124a971863f36.css\",\"routes-acquisition-CategoryLandingPage\":\"/sstk-assets/852-routes-acquisition-CategoryLandingPage-89349ffef8357758eead.css\",\"routes-acquisition-DiscoverLanding\":\"/sstk-assets/853-routes-acquisition-DiscoverLanding-fdf723f28cab3969ca97.css\",\"routes-acquisition-EditorialCollections\":\"/sstk-assets/854-routes-acquisition-EditorialCollections-07d3daa9a0e6a3bc0b8d.css\",\"routes-acquisition-EditorialEventPhotographyAssignments\":\"/sstk-assets/855-routes-acquisition-EditorialEventPhotographyAssignments-1ce667863cf2c3ea6318.css\",\"routes-acquisition-EditorialOurStory\":\"/sstk-assets/856-routes-acquisition-EditorialOurStory-a2861091e6a599a16c24.css\",\"routes-acquisition-EditorialPopularSearches\":\"/sstk-assets/857-routes-acquisition-EditorialPopularSearches-fe0435871aba82b5c781.css\",\"routes-acquisition-EditorialSearchTips\":\"/sstk-assets/858-routes-acquisition-EditorialSearchTips-ed188b327e399c6955ce.css\",\"routes-acquisition-Elements\":\"/sstk-assets/859-routes-acquisition-Elements-5793cf6fe48d245a284a.css\",\"routes-acquisition-EnterpriseHomepage\":\"/sstk-assets/860-routes-acquisition-EnterpriseHomepage-dd80311b48494dd84f4d.css\",\"routes-acquisition-EnterpriseLanding\":\"/sstk-assets/861-routes-acquisition-EnterpriseLanding-bbb8e779f5ae929a172a.css\",\"routes-acquisition-FeaturedCollections\":\"/sstk-assets/862-routes-acquisition-FeaturedCollections-35c4c85a26a4c2feb273.css\",\"routes-acquisition-FeaturedCollectionsArchive\":\"/sstk-assets/863-routes-acquisition-FeaturedCollectionsArchive-70ee84d4efaa851ab1d9.css\",\"routes-acquisition-FeaturedCollectionsHome\":\"/sstk-assets/864-routes-acquisition-FeaturedCollectionsHome-3a5bbc7acc7552ad6004.css\",\"routes-acquisition-Free\":\"/sstk-assets/865-routes-acquisition-Free-d9d01895e465499b93f4.css\",\"routes-acquisition-FreeTrial\":\"/sstk-assets/866-routes-acquisition-FreeTrial-6d7a1c25799019493a39.css\",\"routes-acquisition-ImageLohp\":\"/sstk-assets/867-routes-acquisition-ImageLohp-fd9a6897596330b2072e.css\",\"routes-acquisition-LicenseComparison\":\"/sstk-assets/868-routes-acquisition-LicenseComparison-a7a3df03ee53def553ef.css\",\"routes-acquisition-MarketingLanding\":\"/sstk-assets/869-routes-acquisition-MarketingLanding-dcb660ade1c6459d6c5d.css\",\"routes-acquisition-MusicFeaturedCollections\":\"/sstk-assets/870-routes-acquisition-MusicFeaturedCollections-266c8f337252e4d8ef64.css\",\"routes-acquisition-Offset\":\"/sstk-assets/871-routes-acquisition-Offset-7367dd668087cdfe79df.css\",\"routes-acquisition-Photos\":\"/sstk-assets/872-routes-acquisition-Photos-a3104821f85da65ab4b0.css\",\"routes-acquisition-Resources\":\"/sstk-assets/873-routes-acquisition-Resources-cfe5388409ee9b6d93f6.css\",\"routes-acquisition-RoyaltyFreeContent\":\"/sstk-assets/874-routes-acquisition-RoyaltyFreeContent-c05e86a86d82f3e8f2b2.css\",\"routes-acquisition-RoyaltyFreeLanding\":\"/sstk-assets/875-routes-acquisition-RoyaltyFreeLanding-f00b54315d204b0ca354.css\",\"routes-acquisition-Select\":\"/sstk-assets/876-routes-acquisition-Select-81eecd3026dcb030df3d.css\",\"routes-acquisition-StockAssets\":\"/sstk-assets/877-routes-acquisition-StockAssets-dc1ed5b44755cd5f4d31.css\",\"routes-acquisition-StockContent\":\"/sstk-assets/878-routes-acquisition-StockContent-298c897ec5706d2af97c.css\",\"routes-acquisition-StockImage\":\"/sstk-assets/879-routes-acquisition-StockImage-4b5f4db74ed5b9b4c547.css\",\"routes-acquisition-SubcategoryLandingPage\":\"/sstk-assets/880-routes-acquisition-SubcategoryLandingPage-657cf76c0b53a7432aeb.css\",\"routes-acquisition-Vectors\":\"/sstk-assets/881-routes-acquisition-Vectors-fd3e3e1c9c1d7709e557.css\",\"routes-cart-CartPage\":\"/sstk-assets/882-routes-cart-CartPage-325d49e4475b40c3893a.css\",\"routes-cart-CartPageV2\":\"/sstk-assets/883-routes-cart-CartPageV2-97ec725dfd867d90037a.css\",\"routes-confirmation-Confirmation\":\"/sstk-assets/905-routes-confirmation-Confirmation-576c3fb26f9084b3b1e0.css\",\"routes-developers-DeveloperApplications\":\"/sstk-assets/906-routes-developers-DeveloperApplications-11488bc1cbf6bc58187b.css\",\"routes-developers-DevelopersLanding\":\"/sstk-assets/928-routes-developers-DevelopersLanding-65a8500236d24f863bbc.css\",\"routes-developers-DevelopersLandingHome\":\"/sstk-assets/929-routes-developers-DevelopersLandingHome-0e4fc1f24112aa83fa63.css\",\"routes-developers-DevelopersLandingSubPage\":\"/sstk-assets/930-routes-developers-DevelopersLandingSubPage-d91523366f7711849b95.css\",\"routes-developers-PageContentDiscovery\":\"/sstk-assets/931-routes-developers-PageContentDiscovery-0ec377e635f924914461.css\",\"routes-developers-PageDocsAuthentication\":\"/sstk-assets/953-routes-developers-PageDocsAuthentication-89c1874a074aa52f52bc.css\",\"routes-developers-PageDocsEditorIntegration\":\"/sstk-assets/954-routes-developers-PageDocsEditorIntegration-73984a3894f4406645b2.css\",\"routes-developers-PageDocsGettingStarted\":\"/sstk-assets/955-routes-developers-PageDocsGettingStarted-1022414e2287f2cae80c.css\",\"routes-developers-PageDocsHome\":\"/sstk-assets/956-routes-developers-PageDocsHome-821eb53b8d5fecca8af1.css\",\"routes-developers-PageDocsJavascriptSdk\":\"/sstk-assets/957-routes-developers-PageDocsJavascriptSdk-1868e3ca383efddc13e1.css\",\"routes-developers-PageDocsLicensingAndDownloading\":\"/sstk-assets/958-routes-developers-PageDocsLicensingAndDownloading-7250bcc90e158f17c4e6.css\",\"routes-developers-PageDocsSearching\":\"/sstk-assets/959-routes-developers-PageDocsSearching-057f6271baaebdd594e3.css\",\"routes-developers-PageDocsShutterstockUI\":\"/sstk-assets/960-routes-developers-PageDocsShutterstockUI-39a8428cb874e33147ef.css\",\"routes-facebook-ad-creator-PageAdConfirm\":\"/sstk-assets/961-routes-facebook-ad-creator-PageAdConfirm-9f18a6140aa0421ba4f0.css\",\"routes-facebook-ad-creator-PageAdEditor\":\"/sstk-assets/980-routes-facebook-ad-creator-PageAdEditor-7705ecad3fc14f1bbe8d.css\",\"routes-facebook-ad-creator-PageAdSuccess\":\"/sstk-assets/1002-routes-facebook-ad-creator-PageAdSuccess-fd722898b239fe6746a6.css\",\"routes-facebook-ad-creator-PageFacebookLanding\":\"/sstk-assets/1021-routes-facebook-ad-creator-PageFacebookLanding-fca1a3e7f97babd65f64.css\",\"routes-footage-PageBusinessSolutions\":\"/sstk-assets/1043-routes-footage-PageBusinessSolutions-bc67b9b64d9f55dc83a0.css\",\"routes-footage-PageClipDetails\":\"/sstk-assets/1065-routes-footage-PageClipDetails-9daffb50cbff5195d263.css\",\"routes-footage-PageDirectorsChoice\":\"/sstk-assets/1087-routes-footage-PageDirectorsChoice-289538cbe01635bd0d4f.css\",\"routes-footage-PageDirectorsChoiceList\":\"/sstk-assets/1109-routes-footage-PageDirectorsChoiceList-1092e67b2da4306d1eae.css\",\"routes-footage-PageElementsCategory\":\"/sstk-assets/1131-routes-footage-PageElementsCategory-f1e94c40bf7cfb2a8734.css\",\"routes-footage-PageElementsDetails\":\"/sstk-assets/1133-routes-footage-PageElementsDetails-29ee36fa8ad80adac345.css\",\"routes-footage-PageElementsListing\":\"/sstk-assets/1155-routes-footage-PageElementsListing-ad16feccef7230d10cf1.css\",\"routes-footage-PageHome\":\"/sstk-assets/1178-routes-footage-PageHome-1dc7da32420349cbfeea.css\",\"routes-footage-PageReverseImageSearch\":\"/sstk-assets/1200-routes-footage-PageReverseImageSearch-e845daf1fceb3f45235c.css\",\"routes-footage-PageSearch\":\"/sstk-assets/1222-routes-footage-PageSearch-4093d18156d9e85cb011.css\",\"routes-footage-PageSearchSimilar\":\"/sstk-assets/1244-routes-footage-PageSearchSimilar-46a38d734fc933e47bfa.css\",\"routes-footage-PageSubscriptionLanding\":\"/sstk-assets/1266-routes-footage-PageSubscriptionLanding-06525ac075e3b31c879d.css\",\"routes-image-FullPreviewOverlay\":\"/sstk-assets/1267-routes-image-FullPreviewOverlay-f60e5fcca4ced601e340.css\",\"routes-image-ImageDetailsPage\":\"/sstk-assets/1268-routes-image-ImageDetailsPage-b82c0259a82a567740b1.css\",\"routes-image-LoggedInHomePage\":\"/sstk-assets/1290-routes-image-LoggedInHomePage-0c99c1b413956907a76c.css\",\"routes-image-ReverseImageSearchPage\":\"/sstk-assets/1312-routes-image-ReverseImageSearchPage-56762c44cf4a3055f48e.css\",\"routes-image-SearchByIdsPage\":\"/sstk-assets/1334-routes-image-SearchByIdsPage-eeff7edab7a15276aafc.css\",\"routes-image-SearchResultsPage\":\"/sstk-assets/1356-routes-image-SearchResultsPage-0b254d8bad4018aa65fe.css\",\"routes-image-SearchSameModelsPage\":\"/sstk-assets/1378-routes-image-SearchSameModelsPage-15abb194cfdaacea7f7a.css\",\"routes-image-SearchSimilarPage\":\"/sstk-assets/1400-routes-image-SearchSimilarPage-0b034de9242d56d3c02e.css\",\"routes-legal-DMCANoticePage\":\"/sstk-assets/1422-routes-legal-DMCANoticePage-15f0396252a8fab93349.css\",\"routes-legal-EditorialAssignmentTermsPage\":\"/sstk-assets/1444-routes-legal-EditorialAssignmentTermsPage-f6eedfd3e61df7347bc1.css\",\"routes-legal-License\":\"/sstk-assets/1466-routes-legal-License-ea6ab943dd04c95a7bbc.css\",\"routes-legal-LicenseHistory\":\"/sstk-assets/1488-routes-legal-LicenseHistory-bd8ba7efcc15cc514bdb.css\",\"routes-legal-PrivacyPage\":\"/sstk-assets/1510-routes-legal-PrivacyPage-2f9a4a8c623a0ff3cc16.css\",\"routes-legal-TermsPage\":\"/sstk-assets/1532-routes-legal-TermsPage-52893d6dbf455c80b41a.css\",\"routes-music-PageCuratedCollections\":\"/sstk-assets/1554-routes-music-PageCuratedCollections-f96a82801f8f4d4418c5.css\",\"routes-music-PageCuratedCollectionsList\":\"/sstk-assets/1555-routes-music-PageCuratedCollectionsList-b9115fe74ac13d5f473e.css\",\"routes-music-PageGenre\":\"/sstk-assets/1556-routes-music-PageGenre-74049f84b8c99caabc30.css\",\"routes-music-PageHome\":\"/sstk-assets/1557-routes-music-PageHome-73c41cfa3737d1094028.css\",\"routes-music-PageMood\":\"/sstk-assets/1558-routes-music-PageMood-7e0a2f20c6a833f1adc4.css\",\"routes-music-PageNewArtist\":\"/sstk-assets/1559-routes-music-PageNewArtist-4339111aa6cc56eab006.css\",\"routes-music-PageSearch\":\"/sstk-assets/1581-routes-music-PageSearch-ca357cf8081e71fc9bdc.css\",\"routes-music-PageSubscriptionLanding\":\"/sstk-assets/1603-routes-music-PageSubscriptionLanding-6ec9f84f8c39766f7805.css\",\"routes-music-PageTrackDetails\":\"/sstk-assets/1604-routes-music-PageTrackDetails-f265a59e4ebdf3629a2b.css\",\"routes-support-Support\":\"/sstk-assets/1626-routes-support-Support-3a2f2e88fdc10cf67a49.css\",\"routes-workspaces-CollectionPage\":\"/sstk-assets/1627-routes-workspaces-CollectionPage-31973ba78dc3248014c8.css\",\"routes-workspaces-CommentPreviewModal\":\"/sstk-assets/1628-routes-workspaces-CommentPreviewModal-5eb28f6ff6cd67d8da4b.css\",\"routes-workspaces-PageCollectionDetailFootage\":\"/sstk-assets/1629-routes-workspaces-PageCollectionDetailFootage-02319adbaab6a7e4e546.css\",\"routes-workspaces-PageCollectionDetailImage\":\"/sstk-assets/1630-routes-workspaces-PageCollectionDetailImage-db2e6a947071304d022f.css\",\"routes-workspaces-PageCollectionDetailMusic\":\"/sstk-assets/1631-routes-workspaces-PageCollectionDetailMusic-8f702966af63843f8509.css\",\"routes-workspaces-PageCollectionManagementFootage\":\"/sstk-assets/1632-routes-workspaces-PageCollectionManagementFootage-29f5346bd5916cc4cd59.css\",\"routes-workspaces-PageCollectionManagementImage\":\"/sstk-assets/1633-routes-workspaces-PageCollectionManagementImage-a7b70a0df78ae60ad757.css\",\"routes-workspaces-PageCollectionManagementMusic\":\"/sstk-assets/1634-routes-workspaces-PageCollectionManagementMusic-a0b3a2f7ff32b5a726fd.css\"}</script></body></html>\n"
    }
   ],
   "source": [
    "print(soup)"
   ]
  },
  {
   "cell_type": "code",
   "execution_count": 64,
   "metadata": {
    "tags": []
   },
   "outputs": [],
   "source": [
    "import random\n",
    "imagepath = []\n",
    "page = [random.randrange(1, 2013) for i in range(0,2)]\n",
    "for i in page:\n",
    "    resp = requests.get(url+f\"page={i}\",headers=header)\n",
    "    soup = BeautifulSoup(resp.text)\n",
    "    imagepath.extend([p['src'] for p in soup.find_all('img') if p.get(\"src\")!=None])"
   ]
  },
  {
   "cell_type": "code",
   "execution_count": 65,
   "metadata": {
    "tags": []
   },
   "outputs": [
    {
     "output_type": "stream",
     "name": "stdout",
     "text": "40\n"
    },
    {
     "output_type": "execute_result",
     "data": {
      "text/plain": "'https://image.shutterstock.com/image-photo/smiling-call-center-operator-260nw-300917105.jpg'"
     },
     "metadata": {},
     "execution_count": 65
    }
   ],
   "source": [
    "print(len(imagepath))\n",
    "imagepath[0]"
   ]
  },
  {
   "cell_type": "code",
   "execution_count": 66,
   "metadata": {
    "tags": []
   },
   "outputs": [
    {
     "output_type": "stream",
     "name": "stdout",
     "text": "Save image https://image.shutterstock.com/image-photo/smiling-call-center-operator-260nw-300917105.jpg\nSave image https://image.shutterstock.com/image-photo/stylish-asian-girl-purple-bag-260nw-30517216.jpg\nSave image https://image.shutterstock.com/image-photo/beautiful-young-asian-woman-smiling-260nw-501963691.jpg\nSave image https://image.shutterstock.com/image-photo/beautiful-casual-korean-woman-asian-260nw-1735976561.jpg\nSave image https://image.shutterstock.com/image-photo/young-asian-woman-city-sad-260nw-216980413.jpg\nSave image https://image.shutterstock.com/image-photo/beautiful-girl-home-relaxing-260nw-1083575354.jpg\nSave image https://image.shutterstock.com/image-photo/portraits-on-black-background-260nw-786151063.jpg\nSave image https://image.shutterstock.com/image-photo/smiling-female-worker-260nw-299025632.jpg\nSave image https://image.shutterstock.com/image-photo/young-woman-night-cafe-260nw-1154150698.jpg\nSave image https://image.shutterstock.com/image-photo/cute-asian-girl-isolated-dress-260nw-1757055617.jpg\nSave image https://image.shutterstock.com/image-photo/young-asian-student-woman-wearing-260nw-1172711860.jpg\nSave image https://image.shutterstock.com/image-photo/young-asian-woman-holding-wood-260nw-1696699243.jpg\nSave image https://image.shutterstock.com/image-photo/smiling-asian-housewife-260nw-234941173.jpg\nSave image https://image.shutterstock.com/image-photo/asian-woman-260nw-52715293.jpg\nSave image https://image.shutterstock.com/image-photo/smiling-traveling-asian-girl-holding-260nw-172244459.jpg\nSave image https://image.shutterstock.com/image-photo/beauty-portrait-beautiful-asian-girl-260nw-1354928144.jpg\nSave image https://image.shutterstock.com/image-photo/asian-woman-mask-sport-dress-260nw-414603316.jpg\nSave image https://image.shutterstock.com/image-photo/young-beautiful-chinese-woman-wearing-260nw-1585760734.jpg\nSave image https://image.shutterstock.com/image-photo/young-chinese-woman-wearing-casual-260nw-1490122382.jpg\nSave image https://image.shutterstock.com/image-photo/business-woman-touch-on-screen-260nw-433013953.jpg\nSave image https://image.shutterstock.com/image-photo/women-who-hold-ear-260nw-246031825.jpg\nSave image https://image.shutterstock.com/image-photo/woman-leaning-back-on-rock-260nw-140176582.jpg\nSave image https://image.shutterstock.com/image-photo/call-center-operator-yes-sign-260nw-524878816.jpg\nSave image https://image.shutterstock.com/image-photo/pretty-girl-making-finger-glasses-260nw-554507089.jpg\nSave image https://image.shutterstock.com/image-photo/photo-asian-curious-woman-red-260nw-1191596770.jpg\nSave image https://image.shutterstock.com/image-photo/woman-happy-outside-park-summer-260nw-672670042.jpg\nSave image https://image.shutterstock.com/image-photo/sexy-beautiful-asian-woman-on-260nw-793323352.jpg\nSave image https://image.shutterstock.com/image-photo/women-who-hold-ear-260nw-249715024.jpg\nSave image https://image.shutterstock.com/image-photo/asian-young-girl-260nw-55566181.jpg\nSave image https://image.shutterstock.com/image-photo/isolate-plump-fatty-woman-hunger-260nw-1519136984.jpg\nSave image https://image.shutterstock.com/image-photo/closeup-young-smiling-woman-face-260nw-603020423.jpg\nSave image https://image.shutterstock.com/image-photo/girl-blue-dress-standing-her-260nw-1088811899.jpg\nSave image https://image.shutterstock.com/image-photo/portrait-beautiful-woman-brown-coat-260nw-1271297404.jpg\nSave image https://image.shutterstock.com/image-photo/woman-reading-book-260nw-505101472.jpg\nSave image https://image.shutterstock.com/image-photo/beautiful-asian-korean-woman-sweater-260nw-1711794052.jpg\nSave image https://image.shutterstock.com/image-photo/portrait-two-cute-asian-women-260nw-1661862613.jpg\nSave image https://image.shutterstock.com/image-photo/young-asian-woman-over-isolated-260nw-1201235170.jpg\nSave image https://image.shutterstock.com/image-photo/beautiful-arab-female-model-wearing-260nw-1545699761.jpg\nSave image https://image.shutterstock.com/image-photo/shower-woman-happy-smiling-asian-260nw-95043730.jpg\nSave image https://image.shutterstock.com/image-photo/cute-woman-okay-hand-gesture-260nw-174606284.jpg\n"
    }
   ],
   "source": [
    "for imp in imagepath:\n",
    "\n",
    "    # methon 01\n",
    "    # with  requests.get(img_url,stream=True) as rq :\n",
    "    #     rq.raise_for_status()\n",
    "        \n",
    "        # img = Image.open(rq.raw)\n",
    "        # img.save('{outdir}/{tag}.{ext}'.format(outdir=output_dir,tag=img_id,ext=img.format.lower()))\n",
    "        # print(img.format.lower())\n",
    "\n",
    "    # methon 02\n",
    "    #urllib.request.urlretrieve(img_url,'{outdir}/{tag}.{ext}'.format(outdir=output_dir,tag=img_id,ext=\"jpg\"))\n",
    "    \n",
    "    #methon 03\n",
    "    with  requests.get(imp,stream=True) as rq :\n",
    "        rq.raise_for_status()#check respose status\n",
    "        with open(\"dataset/\"+imp.split(\"/\")[-1],\"wb\") as rw:\n",
    "            for chunk in rq.iter_content(chunk_size=10000):\n",
    "                if chunk:\n",
    "                    rw.write(chunk)\n",
    "       \n",
    "\n",
    "    print( f\"Save image {imp}\")\n",
    "    # 組合圖片而非網站的網址\n",
    "\n",
    "    # 對圖片送出請求"
   ]
  },
  {
   "cell_type": "code",
   "execution_count": null,
   "metadata": {},
   "outputs": [],
   "source": []
  }
 ],
 "metadata": {
  "language_info": {
   "codemirror_mode": {
    "name": "ipython",
    "version": 3
   },
   "file_extension": ".py",
   "mimetype": "text/x-python",
   "name": "python",
   "nbconvert_exporter": "python",
   "pygments_lexer": "ipython3",
   "version": "3.8.1-final"
  },
  "orig_nbformat": 2,
  "kernelspec": {
   "name": "python38164bittorchconda2bf05c5e4e6d4945a6130788ff708fc6",
   "display_name": "Python 3.8.1 64-bit ('torch': conda)"
  }
 },
 "nbformat": 4,
 "nbformat_minor": 2
}